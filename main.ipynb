{
 "cells": [
  {
   "attachments": {},
   "cell_type": "markdown",
   "metadata": {},
   "source": [
    "## GPT Embedding\n",
    "A research project by Mac Lawson"
   ]
  },
  {
   "attachments": {},
   "cell_type": "markdown",
   "metadata": {},
   "source": [
    "#### Setting up your environment and use case\n",
    "Need to have:\n",
    "- OpenAI API Key\n",
    "- Wikipedia Py3 module (for data gathering)"
   ]
  },
  {
   "attachments": {},
   "cell_type": "markdown",
   "metadata": {},
   "source": [
    "#### Data Gathering 101\n",
    "To build our embed we MUST have detailed data that GPT is not previously trained on. This could include information such as:\n",
    "Information about events or facts that have occurred after its knowledge cutoff date of 2021, such as recent news or scientific discoveries.\n",
    "\n",
    "- Personal information about specific individuals or organizations that have not been publicly disclosed or indexed online.\n",
    "\n",
    "- Sensitive information that may be confidential or classified, such as national security information, trade secrets, or personal health information.\n",
    "\n",
    "- Information that is specific to certain cultural or regional contexts, such as local customs, traditions, or dialects.\n",
    "\n",
    "- Subjective information that is based on personal opinions or beliefs, such as artistic preferences or religious convictions.\n",
    "\n",
    "- Information that requires physical or sensory experiences, such as taste, smell, or touch.\n",
    "\n",
    "- Information that requires expertise in a particular domain or field of knowledge, such as advanced mathematics, engineering, or medicine.\n",
    "\n",
    "- Information that is not represented in language, such as non-verbal cues or sensory stimuli.\n",
    "\n",
    "- Information that is intentionally distorted or deceptive, such as fake news or propaganda.\n",
    "\n",
    "- Information that is beyond the capacity of current scientific or technological understanding, such as the nature of consciousness or the origins of the universe."
   ]
  },
  {
   "cell_type": "code",
   "execution_count": 1,
   "metadata": {},
   "outputs": [
    {
     "name": "stdout",
     "output_type": "stream",
     "text": [
      "The White House is the official residence and workplace of the president of the United States. It is located at 1600 Pennsylvania Avenue NW in Washington, D.C., and has been the residence of every U.S. president since John Adams in 1800. The term \"White House\" is often used as a metonym for the president and his advisers.\n",
      "The residence was designed by Irish-born architect James Hoban in the neoclassical style. Hoban modelled the building on Leinster House in Dublin, a building which today houses the Oireachtas, the Irish legislature. Construction took place between 1792 and 1800, using Aquia Creek sandstone painted white. When Thomas Jefferson moved into the house in 1801, he (with architect Benjamin Henry Latrobe) added low colonnades on each wing that concealed stables and storage. In 1814, during the War of 1812, the mansion was set ablaze by British forces in the Burning of Washington, destroying the interior and charring much of the exterior. Reconstruction began almost immediately, and President James Monroe moved into the partially reconstructed Executive Residence in October 1817. Exterior construction continued with the addition of the semi-circular South portico in 1824 and the North portico in 1829.\n",
      "Because of crowding within the executive mansion itself, President Theodore Roosevelt had all work offices relocated to the newly constructed West Wing in 1901. Eight years later, in 1909, President William Howard Taft expanded the West Wing and created the first Oval Office, which was eventually moved as the section was expanded. In the main mansion (Executive Residence), the third-floor attic was converted to living quarters in 1927 by augmenting the existing hip roof with long shed dormers. A newly constructed East Wing was used as a reception area for social events; Jefferson's colonnades connected the new wings. The East Wing alterations were completed in 1946, creating additional office space. By 1948, the residence's load-bearing walls and wood beams were found to be close to failure. Under Harry S. Truman, the interior rooms were completely dismantled and a new internal load-bearing steel frame was constructed inside the walls. On the exterior, the Truman Balcony was added. Once the structural work was completed, the interior rooms were rebuilt.\n",
      "The modern-day White House complex includes the Executive Residence, the West Wing, the East Wing, the Eisenhower Executive Office Building (the former State Department, which now houses offices for the president's staff and the vice president) and Blair House, a guest residence. The Executive Residence is made up of six stories: the Ground Floor, State Floor, Second Floor, and Third Floor, as well as a two-story basement. The property is a National Heritage Site owned by the National Park Service and is part of the President's Park. In 2007, it was ranked second on the American Institute of Architects list of \"America's Favorite Architecture\".\n"
     ]
    }
   ],
   "source": [
    "# Author: Mac Lawson\n",
    "# Year: 2023\n",
    "# Description: Data gathering with Wikipedia\n",
    "\n",
    "# Import the wikipedia library\n",
    "import wikipedia\n",
    "\n",
    "def searchWikipedia(term):\n",
    "    # Define the topic you want to search for on Wikipedia\n",
    "    search_topic = str(term)\n",
    "\n",
    "    # Use the wikipedia library to search for the topic\n",
    "    search_results = wikipedia.search(search_topic)\n",
    "\n",
    "    # Choose the first search result\n",
    "    page_title = search_results[0]\n",
    "\n",
    "    # Use the wikipedia library to get the page for the chosen search result\n",
    "    page = wikipedia.page(page_title)\n",
    "\n",
    "    # Print out the page's title and summary\n",
    "    print(page.summary)\n",
    "\n",
    "searchWikipedia(\"White House\")"
   ]
  }
 ],
 "metadata": {
  "kernelspec": {
   "display_name": "Python 3",
   "language": "python",
   "name": "python3"
  },
  "language_info": {
   "codemirror_mode": {
    "name": "ipython",
    "version": 3
   },
   "file_extension": ".py",
   "mimetype": "text/x-python",
   "name": "python",
   "nbconvert_exporter": "python",
   "pygments_lexer": "ipython3",
   "version": "3.10.2"
  },
  "orig_nbformat": 4
 },
 "nbformat": 4,
 "nbformat_minor": 2
}
